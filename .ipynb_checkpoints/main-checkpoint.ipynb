{
 "cells": [
  {
   "cell_type": "markdown",
   "id": "c2a8ca7a-d316-43c2-a6ef-2ed4a90bd327",
   "metadata": {},
   "source": [
    "# Dependencies"
   ]
  },
  {
   "cell_type": "code",
   "execution_count": 1,
   "id": "731d3eb2-2784-4cb1-bb21-68ba4ff2975c",
   "metadata": {
    "tags": []
   },
   "outputs": [],
   "source": [
    "import os\n",
    "import cv2\n",
    "import sys"
   ]
  },
  {
   "cell_type": "markdown",
   "id": "fcf14ef6-53fa-4082-8996-c8af8808c0f7",
   "metadata": {},
   "source": [
    "# Configurations for Video2Frames\n",
    "1. import video into directory\n",
    "2. update `target` variable\n",
    "3. run last code block\n",
    "4. folder with image frames should be generated"
   ]
  },
  {
   "cell_type": "code",
   "execution_count": 5,
   "id": "d9bbb9d7-2e1b-4334-92da-aa50206455c9",
   "metadata": {},
   "outputs": [
    {
     "name": "stderr",
     "output_type": "stream",
     "text": [
      "[ WARN:0@35.045] global /private/var/folders/nz/j6p8yfhx1mv_0grj5xl4650h0000gp/T/abs_d9lyif19nl/croot/opencv-suite_1676472756314/work/modules/videoio/src/cap_gstreamer.cpp (2386) handleMessage OpenCV | GStreamer warning: your GStreamer installation is missing a required plugin\n",
      "[ WARN:0@35.045] global /private/var/folders/nz/j6p8yfhx1mv_0grj5xl4650h0000gp/T/abs_d9lyif19nl/croot/opencv-suite_1676472756314/work/modules/videoio/src/cap_gstreamer.cpp (2402) handleMessage OpenCV | GStreamer warning: Embedded video playback halted; module uridecodebin1 reported: Your GStreamer installation is missing a plug-in.\n",
      "[ WARN:0@35.046] global /private/var/folders/nz/j6p8yfhx1mv_0grj5xl4650h0000gp/T/abs_d9lyif19nl/croot/opencv-suite_1676472756314/work/modules/videoio/src/cap_gstreamer.cpp (1356) open OpenCV | GStreamer warning: unable to start pipeline\n",
      "[ WARN:0@35.046] global /private/var/folders/nz/j6p8yfhx1mv_0grj5xl4650h0000gp/T/abs_d9lyif19nl/croot/opencv-suite_1676472756314/work/modules/videoio/src/cap_gstreamer.cpp (862) isPipelinePlaying OpenCV | GStreamer warning: GStreamer: pipeline have not been created\n"
     ]
    }
   ],
   "source": [
    "sec = 0\n",
    "frameRate = 0.25\n",
    "count=1\n",
    "target = \"heka\"\n",
    "vidcap = cv2.VideoCapture(target + '.mp4')"
   ]
  },
  {
   "cell_type": "code",
   "execution_count": 3,
   "id": "1b939935-e9ef-4474-ae9a-0de2787adb27",
   "metadata": {
    "tags": []
   },
   "outputs": [],
   "source": [
    "def getFrame(sec):\n",
    "    vidcap.set(cv2.CAP_PROP_POS_MSEC,sec*1000)\n",
    "    hasFrames,image = vidcap.read()\n",
    "    if hasFrames:\n",
    "        imgPath = os.path.join(target,\"image\"+str(count)+\".jpg\")\n",
    "        if not os.path.exists(target):\n",
    "            os.makedirs(target)\n",
    "        cv2.imwrite(imgPath, image)\n",
    "    return hasFrames"
   ]
  },
  {
   "cell_type": "markdown",
   "id": "1e41b5a5-331e-43fc-b544-7e9399c9997d",
   "metadata": {},
   "source": [
    "# Run Video2Frames"
   ]
  },
  {
   "cell_type": "code",
   "execution_count": 6,
   "id": "5908257e-0fab-44db-80aa-9c33f44fffea",
   "metadata": {
    "tags": []
   },
   "outputs": [
    {
     "name": "stdout",
     "output_type": "stream",
     "text": [
      "processing frame: 1\n",
      "processing frame: 2\n",
      "processing frame: 3\n",
      "processing frame: 4\n",
      "processing frame: 5\n",
      "processing frame: 6\n",
      "processing frame: 7\n",
      "processing frame: 8\n",
      "processing frame: 9\n",
      "processing frame: 10\n",
      "processing frame: 11\n",
      "processing frame: 12\n",
      "processing frame: 13\n",
      "processing frame: 14\n",
      "processing frame: 15\n",
      "processing frame: 16\n",
      "processing frame: 17\n",
      "processing frame: 18\n",
      "processing frame: 19\n",
      "processing frame: 20\n",
      "processing frame: 21\n",
      "processing frame: 22\n",
      "processing frame: 23\n",
      "processing frame: 24\n",
      "processing frame: 25\n",
      "processing frame: 26\n",
      "processing frame: 27\n",
      "processing frame: 28\n",
      "processing frame: 29\n",
      "processing frame: 30\n",
      "processing frame: 31\n",
      "processing frame: 32\n",
      "processing frame: 33\n",
      "processing frame: 34\n",
      "processing frame: 35\n",
      "processing frame: 36\n",
      "processing frame: 37\n",
      "processing frame: 38\n",
      "processing frame: 39\n",
      "processing frame: 40\n",
      "processing frame: 41\n",
      "processing frame: 42\n",
      "processing frame: 43\n",
      "processing frame: 44\n",
      "processing frame: 45\n",
      "processing frame: 46\n",
      "processing frame: 47\n",
      "processing frame: 48\n",
      "processing frame: 49\n",
      "processing frame: 50\n",
      "processing frame: 51\n",
      "processing frame: 52\n",
      "processing frame: 53\n",
      "processing frame: 54\n",
      "processing frame: 55\n",
      "processing frame: 56\n",
      "processing frame: 57\n",
      "processing frame: 58\n",
      "processing frame: 59\n",
      "processing frame: 60\n",
      "processing frame: 61\n",
      "processing frame: 62\n",
      "processing frame: 63\n",
      "processing frame: 64\n",
      "processing frame: 65\n",
      "processing frame: 66\n",
      "processing frame: 67\n",
      "processing frame: 68\n",
      "processing frame: 69\n",
      "processing frame: 70\n",
      "processing frame: 71\n",
      "processing frame: 72\n",
      "processing frame: 73\n",
      "processing frame: 74\n",
      "processing frame: 75\n",
      "processing frame: 76\n",
      "processing frame: 77\n",
      "processing frame: 78\n",
      "processing frame: 79\n",
      "processing frame: 80\n",
      "processing frame: 81\n",
      "processing frame: 82\n",
      "processing frame: 83\n",
      "processing frame: 84\n",
      "processing frame: 85\n",
      "processing frame: 86\n",
      "processing frame: 87\n",
      "processing frame: 88\n",
      "processing frame: 89\n",
      "processing frame: 90\n",
      "processing frame: 91\n",
      "processing frame: 92\n",
      "processing frame: 93\n",
      "processing frame: 94\n",
      "processing frame: 95\n",
      "processing frame: 96\n",
      "processing frame: 97\n",
      "processing frame: 98\n",
      "processing frame: 99\n",
      "processing frame: 100\n",
      "processing frame: 101\n",
      "processing frame: 102\n",
      "processing frame: 103\n",
      "processing frame: 104\n",
      "processing frame: 105\n",
      "processing frame: 106\n",
      "processing frame: 107\n",
      "processing frame: 108\n",
      "processing frame: 109\n",
      "processing frame: 110\n",
      "processing frame: 111\n",
      "processing frame: 112\n",
      "processing frame: 113\n",
      "processing frame: 114\n",
      "processing frame: 115\n",
      "processing frame: 116\n",
      "processing frame: 117\n",
      "processing frame: 118\n",
      "processing frame: 119\n",
      "processing frame: 120\n",
      "processing frame: 121\n",
      "processing frame: 122\n",
      "processing frame: 123\n",
      "COMPLETED\n"
     ]
    }
   ],
   "source": [
    "success = getFrame(sec)\n",
    "\n",
    "while success:\n",
    "    print(\"processing frame: \" + str(count))\n",
    "    count = count + 1\n",
    "    sec = sec + frameRate\n",
    "    sec = round(sec, 2)\n",
    "    success = getFrame(sec)\n",
    "print(\"COMPLETED\")"
   ]
  }
 ],
 "metadata": {
  "kernelspec": {
   "display_name": "Python 3 (ipykernel)",
   "language": "python",
   "name": "python3"
  },
  "language_info": {
   "codemirror_mode": {
    "name": "ipython",
    "version": 3
   },
   "file_extension": ".py",
   "mimetype": "text/x-python",
   "name": "python",
   "nbconvert_exporter": "python",
   "pygments_lexer": "ipython3",
   "version": "3.10.9"
  }
 },
 "nbformat": 4,
 "nbformat_minor": 5
}
